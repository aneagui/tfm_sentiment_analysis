{
 "cells": [
  {
   "cell_type": "code",
   "execution_count": 16,
   "metadata": {},
   "outputs": [],
   "source": [
    "import pandas as pd\n",
    "import re\n",
    "import numpy as np\n",
    "import matplotlib.pyplot as plt\n",
    "import nltk \n",
    "import seaborn as sns\n",
    "import spacy\n",
    "from nltk.corpus import stopwords\n",
    "from nltk.tokenize import word_tokenize\n",
    "from nltk.stem import WordNetLemmatizer\n",
    "from sklearn.model_selection import train_test_split\n"
   ]
  },
  {
   "cell_type": "code",
   "execution_count": 17,
   "metadata": {},
   "outputs": [],
   "source": [
    "amazon = pd.read_csv('amazon_polarity_sample.csv')\n",
    "imdb = pd.read_csv('IMDB Dataset.csv')\n",
    "sentiment = pd.read_csv('Sentiment140.csv', header=None)\n",
    "tweets = pd.read_csv('Tweets.csv')\n",
    "yelp_train = pd.read_csv('yelp_polarity_train.csv')\n",
    "financial = pd.read_csv(\"financial_phrase_bank.csv\")\n",
    "stanford = pd.read_csv(\"stanford.csv\")"
   ]
  },
  {
   "cell_type": "markdown",
   "metadata": {},
   "source": [
    "Eliminar las columnas innecesarias"
   ]
  },
  {
   "cell_type": "code",
   "execution_count": 18,
   "metadata": {},
   "outputs": [],
   "source": [
    "# Eliminar la columna 'Unnamed: 0' si existe\n",
    "if 'Unnamed: 0' in yelp_train.columns:\n",
    "    yelp_train = yelp_train.drop(columns=['Unnamed: 0'])\n",
    "if 'Unnamed: 0' in amazon.columns:\n",
    "    amazon = amazon.drop(columns=['Unnamed: 0'])\n",
    "if 'Unnamed: 0' in stanford.columns:\n",
    "    stanford = stanford.drop(columns=['Unnamed: 0'])"
   ]
  },
  {
   "cell_type": "code",
   "execution_count": 19,
   "metadata": {},
   "outputs": [],
   "source": [
    "del tweets['airline_sentiment_confidence']\n",
    "del tweets['negativereason_confidence']\n",
    "del tweets['tweet_coord']\n",
    "del tweets['negativereason']\n",
    "del tweets['airline']\n",
    "del tweets['name']\n",
    "del tweets['negativereason_gold']\n",
    "del tweets['tweet_created']\n",
    "del tweets['tweet_location']\n",
    "del tweets['user_timezone']\n",
    "del tweets['tweet_id']\n",
    "del tweets['retweet_count']\n",
    "del tweets['airline_sentiment_gold']\n",
    "del amazon['title']"
   ]
  },
  {
   "cell_type": "markdown",
   "metadata": {},
   "source": [
    "renombrar las columnas"
   ]
  },
  {
   "cell_type": "code",
   "execution_count": 20,
   "metadata": {},
   "outputs": [],
   "source": [
    "sentiment = sentiment.rename(columns={0: 'label', 1:'id', 2: 'date', 3: 'query', 4: 'user', 5: 'text'})\n",
    "del sentiment['id']\n",
    "del sentiment['query']\n",
    "del sentiment['date']\n",
    "del sentiment['user']\n",
    "financial = financial.rename(columns={'sentence': 'text'})\n",
    "imdb = imdb.rename(columns={'review': 'text', 'sentiment': 'label'})\n",
    "amazon = amazon.rename(columns={'content': 'text'})\n",
    "tweets = tweets.rename(columns={'airline_sentiment': 'label'})"
   ]
  },
  {
   "cell_type": "markdown",
   "metadata": {},
   "source": [
    "mapeo IMDB Y TWEETS"
   ]
  },
  {
   "cell_type": "code",
   "execution_count": 21,
   "metadata": {},
   "outputs": [],
   "source": [
    "mapping = {'negative': 0, 'neutral': 1, 'positive': 2}\n",
    "tweets['label'] = tweets['label'].map(mapping)\n",
    "imdb['label'] = imdb['label'].map(mapping)"
   ]
  },
  {
   "cell_type": "markdown",
   "metadata": {},
   "source": [
    "CAMBIAR NOMBRE DE ETIQUETAS"
   ]
  },
  {
   "cell_type": "code",
   "execution_count": 22,
   "metadata": {},
   "outputs": [],
   "source": [
    "amazon['label'] = amazon['label'].replace({1: 2, 0: 0})\n",
    "yelp_train['label'] = yelp_train['label'].replace({1: 2, 0: 0})\n",
    "sentiment['label'] = sentiment['label'].replace({4: 2, 2: 1, 0: 0})"
   ]
  },
  {
   "cell_type": "markdown",
   "metadata": {},
   "source": [
    "CREAR COLUMNA DATASET"
   ]
  },
  {
   "cell_type": "code",
   "execution_count": 23,
   "metadata": {},
   "outputs": [],
   "source": [
    "tweets[\"Dataset\"] = \"Twitter US Airline Sentiment\"\n",
    "amazon[\"Dataset\"] = \"Amazon Review Polarity Dataset\"\n",
    "yelp_train[\"Dataset\"] = \"Yelp Polarity Reviews\"\n",
    "sentiment[\"Dataset\"] = \"Sentiment140\"\n",
    "financial[\"Dataset\"] = \"Financial Phrasebank\"\n",
    "imdb[\"Dataset\"] = \"Movie Database (IMDb)\"\n"
   ]
  },
  {
   "cell_type": "code",
   "execution_count": 24,
   "metadata": {},
   "outputs": [],
   "source": [
    "N,_ = imdb.shape\n",
    "# N"
   ]
  },
  {
   "cell_type": "code",
   "execution_count": 25,
   "metadata": {},
   "outputs": [],
   "source": [
    "def stratified_sample(df, n):\n",
    "    # Determine the fraction of the dataset to sample\n",
    "    fraction = n / len(df)\n",
    "    \n",
    "    if fraction > 1:\n",
    "        raise ValueError(\"Sample size n is larger than the number of rows in the DataFrame\")\n",
    "    \n",
    "    # Perform a stratified split\n",
    "    stratified_sample, _ = train_test_split(df, train_size=fraction, stratify=df['label'], random_state=42)\n",
    "    \n",
    "    return stratified_sample\n"
   ]
  },
  {
   "cell_type": "code",
   "execution_count": 26,
   "metadata": {},
   "outputs": [],
   "source": [
    "amazon_sample = stratified_sample(amazon, n=N)\n",
    "sentiment_sample = stratified_sample(sentiment, n=N)\n",
    "yelp_sample = stratified_sample(yelp_train, n=N)\n",
    "stanford_sample = stratified_sample(stanford, n=N)"
   ]
  },
  {
   "cell_type": "code",
   "execution_count": 27,
   "metadata": {},
   "outputs": [],
   "source": [
    "\n",
    "\n",
    "tweets_train, tweets_test = train_test_split(tweets, test_size=0.2, stratify=tweets[\"label\"])\n",
    "amazon_train, amazon_test = train_test_split(amazon_sample, test_size=0.2)\n",
    "yelp_train, yelp_test = train_test_split(yelp_sample, test_size=0.2)\n",
    "sentiment_train, sentiment_test = train_test_split(sentiment_sample, test_size=0.2)\n",
    "financial_train, financial_test = train_test_split(financial, test_size=0.2)\n",
    "imdb_train, imdb_test = train_test_split(imdb, test_size=0.2)\n",
    "stanford_train, stanford_test = train_test_split(stanford_sample, test_size=0.2)\n"
   ]
  },
  {
   "cell_type": "code",
   "execution_count": 28,
   "metadata": {},
   "outputs": [],
   "source": [
    "train_data = pd.concat([tweets_train, amazon_train, yelp_train, sentiment_train, financial_train, imdb_train, stanford_train], ignore_index=True)\n",
    "#train_data.to_json(\"train_data.json\")\n",
    "\n",
    "test_data = pd.concat([tweets_test, amazon_test, yelp_test, sentiment_test, financial_test, imdb_test, stanford_test], ignore_index=True)\n",
    "#test_data.to_json(\"test_data.json\")\n",
    "\n",
    "# tweets_test.to_json(\"tweets_test.json\")\n",
    "# amazon_test.to_json(\"amazon_test.json\")\n",
    "# yelp_test.to_json(\"yelp_test.json\")\n",
    "# sentiment_test.to_json(\"sentiment_test.json\")\n",
    "# financial_test.to_json(\"financial_test.json\")\n",
    "# imdb_test.to_json(\"imdb_test.json\")\n",
    "# stanford_test.to_json(\"stanford_test.json\")\n",
    "\n"
   ]
  },
  {
   "cell_type": "code",
   "execution_count": 29,
   "metadata": {},
   "outputs": [],
   "source": [
    "df = train_data\n",
    "test_data = test_data"
   ]
  },
  {
   "cell_type": "markdown",
   "metadata": {},
   "source": [
    "# Procesamiento de datos"
   ]
  },
  {
   "cell_type": "markdown",
   "metadata": {},
   "source": [
    "### Eliminar enlaces"
   ]
  },
  {
   "cell_type": "code",
   "execution_count": 30,
   "metadata": {},
   "outputs": [],
   "source": [
    "url_pattern = re.compile(r'https?://\\S+|www\\.\\S+')\n",
    "\n",
    "for index, row in df.iterrows():    \n",
    "    df.loc[[index],'text'] = url_pattern.sub(\"\", row['text'].lower())"
   ]
  },
  {
   "cell_type": "code",
   "execution_count": 31,
   "metadata": {},
   "outputs": [],
   "source": [
    "url_pattern = re.compile(r'https?://\\S+|www\\.\\S+')\n",
    "\n",
    "# Apply the regex substitution and convert text to lowercase\n",
    "test_data['text'] = test_data['text'].apply(lambda x: url_pattern.sub(\"\", x.lower()))\n"
   ]
  },
  {
   "cell_type": "markdown",
   "metadata": {},
   "source": [
    "### Eliminar nombre usuario twitter"
   ]
  },
  {
   "cell_type": "code",
   "execution_count": 32,
   "metadata": {},
   "outputs": [],
   "source": [
    "username_remove = re.compile(r'@[A-Za-z0-9_]+')\n",
    "\n",
    "for index, row in df.iterrows():    \n",
    "    df.loc[[index],'text'] = username_remove.sub(\"\", row['text'].lower())"
   ]
  },
  {
   "cell_type": "code",
   "execution_count": 33,
   "metadata": {},
   "outputs": [],
   "source": [
    "username_remove = re.compile(r'@[A-Za-z0-9_]+')\n",
    "test_data['text'] = test_data['text'].apply(lambda x: username_remove.sub(\"\", x.lower()))\n"
   ]
  },
  {
   "cell_type": "markdown",
   "metadata": {},
   "source": [
    "### Tokenizar, lematizar"
   ]
  },
  {
   "cell_type": "code",
   "execution_count": 34,
   "metadata": {},
   "outputs": [
    {
     "name": "stderr",
     "output_type": "stream",
     "text": [
      "[nltk_data] Downloading package punkt to\n",
      "[nltk_data]     C:\\Users\\34688\\AppData\\Roaming\\nltk_data...\n",
      "[nltk_data]   Package punkt is already up-to-date!\n",
      "[nltk_data] Downloading package stopwords to\n",
      "[nltk_data]     C:\\Users\\34688\\AppData\\Roaming\\nltk_data...\n",
      "[nltk_data]   Package stopwords is already up-to-date!\n",
      "[nltk_data] Downloading package wordnet to\n",
      "[nltk_data]     C:\\Users\\34688\\AppData\\Roaming\\nltk_data...\n",
      "[nltk_data]   Package wordnet is already up-to-date!\n"
     ]
    }
   ],
   "source": [
    "# Download necessary NLTK data\n",
    "nltk.download('punkt')\n",
    "nltk.download('stopwords')\n",
    "nltk.download('wordnet')\n",
    "\n",
    "# Load the English tokenizer, POS tagger, parser, NER, and word vectors\n",
    "nlp = spacy.load(\"en_core_web_sm\")\n",
    "\n",
    "# Define the function to process the text\n",
    "def preprocess_text(text):\n",
    "    # Tokenize the text\n",
    "    tokens = word_tokenize(text)\n",
    "    \n",
    "    # Remove stopwords\n",
    "    stop_words = set(stopwords.words('english'))\n",
    "    tokens = [word for word in tokens if word.lower() not in stop_words]\n",
    "    \n",
    "    # Lemmatize the tokens\n",
    "    lemmatizer = WordNetLemmatizer()\n",
    "    lemmatized_tokens = [lemmatizer.lemmatize(token) for token in tokens]\n",
    "    \n",
    "    return lemmatized_tokens\n",
    "\n",
    "# Apply the function to the DataFrame\n",
    "df['text'] = df['text'].apply(preprocess_text)\n",
    "test_data['text'] = test_data['text'].apply(preprocess_text)"
   ]
  },
  {
   "cell_type": "markdown",
   "metadata": {},
   "source": [
    "### Eliminar numeros y signos de puntuación"
   ]
  },
  {
   "cell_type": "code",
   "execution_count": 35,
   "metadata": {},
   "outputs": [],
   "source": [
    "nueva_lista = []\n",
    "for string in df['text']:\n",
    "    lista_limpia = []\n",
    " \n",
    "    for car in string:\n",
    "        if car.isalpha() or car == \" \": #Si el caracter es distinto a letra o espacio no lo mete en la nueva lista. Esto es elimina los números y signos de puntuación\n",
    "            lista_limpia.append(car)\n",
    "    #nueva_lista.append(''.join(lista_limpia))\n",
    "    nueva_lista.append(lista_limpia)\n",
    "\n",
    "df['text'] = nueva_lista"
   ]
  },
  {
   "cell_type": "code",
   "execution_count": 36,
   "metadata": {},
   "outputs": [],
   "source": [
    "nueva_lista = []\n",
    "for string in test_data['text']:\n",
    "    lista_limpia = []\n",
    " \n",
    "    for car in string:\n",
    "        if car.isalpha() or car == \" \": #Si el caracter es distinto a letra o espacio no lo mete en la nueva lista. Esto es elimina los números y signos de puntuación\n",
    "            lista_limpia.append(car)\n",
    "    #nueva_lista.append(''.join(lista_limpia))\n",
    "    nueva_lista.append(lista_limpia)\n",
    "\n",
    "test_data['text'] = nueva_lista"
   ]
  },
  {
   "cell_type": "markdown",
   "metadata": {},
   "source": [
    "### Eliminar stopwords"
   ]
  },
  {
   "cell_type": "code",
   "execution_count": 37,
   "metadata": {},
   "outputs": [
    {
     "name": "stderr",
     "output_type": "stream",
     "text": [
      "[nltk_data] Downloading package stopwords to\n",
      "[nltk_data]     C:\\Users\\34688\\AppData\\Roaming\\nltk_data...\n",
      "[nltk_data]   Package stopwords is already up-to-date!\n"
     ]
    }
   ],
   "source": [
    "nltk.download('stopwords')\n",
    "\n",
    "# Load stopwords\n",
    "stop_words = set(stopwords.words('english'))\n",
    "\n",
    "def remove_stopwords(tokenized_text):\n",
    "    return [word for word in tokenized_text if word not in stop_words]\n",
    "\n",
    "# Apply the function to the \"text\" column\n",
    "df['text'] = df['text'].apply(remove_stopwords)\n",
    "test_data['text'] = test_data['text'].apply(remove_stopwords)"
   ]
  },
  {
   "cell_type": "code",
   "execution_count": 38,
   "metadata": {},
   "outputs": [],
   "source": [
    "# Join the tokenized text into a single string for each row\n",
    "df['text'] = df['text'].apply(lambda x: ' '.join(x))\n",
    "test_data['text'] = test_data['text'].apply(lambda x: ' '.join(x))"
   ]
  },
  {
   "cell_type": "markdown",
   "metadata": {},
   "source": [
    "# Guardar datasets limpios"
   ]
  },
  {
   "cell_type": "code",
   "execution_count": 39,
   "metadata": {},
   "outputs": [
    {
     "name": "stdout",
     "output_type": "stream",
     "text": [
      "(215085, 3) Index(['label', 'text', 'Dataset'], dtype='object')\n",
      "(53772, 3) Index(['label', 'text', 'Dataset'], dtype='object')\n"
     ]
    }
   ],
   "source": [
    "print(df.shape, df.columns)\n",
    "print(test_data.shape, test_data.columns)"
   ]
  },
  {
   "cell_type": "code",
   "execution_count": 40,
   "metadata": {},
   "outputs": [],
   "source": [
    "#df.to_json(\"train_data_LIMPIO.json\")"
   ]
  },
  {
   "cell_type": "code",
   "execution_count": 41,
   "metadata": {},
   "outputs": [],
   "source": [
    "#test_data.to_json(\"test_data_LIMPIO.json\")"
   ]
  },
  {
   "cell_type": "markdown",
   "metadata": {},
   "source": [
    "El conjunto de entrenamiento tiene 215.085 datos. El conjunto de entrenamiento tiene 53.772 datos."
   ]
  },
  {
   "cell_type": "markdown",
   "metadata": {},
   "source": [
    "# Análisis exploratorio de datos"
   ]
  },
  {
   "cell_type": "code",
   "execution_count": 44,
   "metadata": {},
   "outputs": [
    {
     "data": {
      "image/png": "[encoded data removed]",
      "text/plain": [
       "<Figure size 640x480 with 1 Axes>"
      ]
     },
     "metadata": {},
     "output_type": "display_data"
    }
   ],
   "source": [
    "label_counts = df['label'].value_counts()\n",
    "\n",
    "# Crear el gráfico de barras\n",
    "label_counts.plot(kind='bar', color=['skyblue', 'salmon', 'lightgreen'])\n",
    "\n",
    "# Añadir título y etiquetas\n",
    "plt.title('Frecuencia de cada etiqueta')\n",
    "plt.xlabel('Etiquetas')\n",
    "plt.ylabel('Frecuencia')\n",
    "\n",
    "# Mostrar el gráfico\n",
    "plt.show()"
   ]
  },
  {
   "cell_type": "code",
   "execution_count": 45,
   "metadata": {},
   "outputs": [
    {
     "data": {
      "image/png": "[encoded data removed]",
      "text/plain": [
       "<Figure size 640x480 with 1 Axes>"
      ]
     },
     "metadata": {},
     "output_type": "display_data"
    }
   ],
   "source": [
    "label_counts = test_data['label'].value_counts()\n",
    "\n",
    "# Crear el gráfico de barras\n",
    "label_counts.plot(kind='bar', color=['skyblue', 'salmon', 'lightgreen'])\n",
    "\n",
    "# Añadir título y etiquetas\n",
    "plt.title('Frecuencia de cada etiqueta')\n",
    "plt.xlabel('Etiquetas')\n",
    "plt.ylabel('Frecuencia')\n",
    "\n",
    "# Mostrar el gráfico\n",
    "plt.show()"
   ]
  }
 ],
 "metadata": {
  "kernelspec": {
   "display_name": "Python 3",
   "language": "python",
   "name": "python3"
  },
  "language_info": {
   "codemirror_mode": {
    "name": "ipython",
    "version": 3
   },
   "file_extension": ".py",
   "mimetype": "text/x-python",
   "name": "python",
   "nbconvert_exporter": "python",
   "pygments_lexer": "ipython3",
   "version": "3.11.9"
  }
 },
 "nbformat": 4,
 "nbformat_minor": 2
}

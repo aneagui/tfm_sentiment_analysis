{
 "cells": [
  {
   "cell_type": "markdown",
   "metadata": {},
   "source": [
    "# Cargar librerías y datsets"
   ]
  },
  {
   "cell_type": "code",
   "execution_count": 31,
   "metadata": {},
   "outputs": [],
   "source": [
    "import pandas as pd\n",
    "import numpy as np\n",
    "import matplotlib.pyplot as plt\n",
    "import nltk \n",
    "import seaborn as sns\n",
    "import spacy\n",
    "from nltk.corpus import stopwords\n",
    "from nltk.tokenize import word_tokenize\n",
    "from nltk.stem import WordNetLemmatizer\n",
    "from sklearn.metrics import mean_squared_error, accuracy_score, classification_report\n",
    "from sklearn.feature_extraction.text import CountVectorizer\n",
    "import re\n",
    "from sklearn.model_selection import cross_val_score, StratifiedKFold\n",
    "from sklearn.pipeline import make_pipeline\n",
    "from nltk.sentiment.vader import SentimentIntensityAnalyzer"
   ]
  },
  {
   "cell_type": "code",
   "execution_count": 32,
   "metadata": {},
   "outputs": [],
   "source": [
    "train_data = pd.read_json(\"train_financial.json\")\n",
    "test_d = pd.read_json(\"FINANCIAL_TEST_LIMPIO.json\")"
   ]
  },
  {
   "cell_type": "code",
   "execution_count": 33,
   "metadata": {},
   "outputs": [],
   "source": [
    "df = train_data\n",
    "test_data = test_d"
   ]
  },
  {
   "cell_type": "markdown",
   "metadata": {},
   "source": [
    "# Vader"
   ]
  },
  {
   "cell_type": "markdown",
   "metadata": {},
   "source": [
    "Dado que VADER es un algoritmo basado en reglas y no un modelo entrenable, su precisión y desempeño pueden ser evaluados aplicándolo directamente sobre df"
   ]
  },
  {
   "cell_type": "code",
   "execution_count": 34,
   "metadata": {},
   "outputs": [
    {
     "name": "stdout",
     "output_type": "stream",
     "text": [
      "DataFrame de entrenamiento:\n",
      "        label                                               text  \\\n",
      "131712      0  many commercial vessel got stuck narrow bay bo...   \n",
      "131713      2        diluted loss per share stood eur versus eur   \n",
      "131714      1  broad range connectivity option including hspa...   \n",
      "131715      2  however biohit estimate total net sale continu...   \n",
      "131716      1  mr bakman see also expansion option link claim...   \n",
      "...       ...                                                ...   \n",
      "135080      0  operating profit excluding item totaled eur mn...   \n",
      "135081      1  start negotiation relating glaston efficiency ...   \n",
      "135082      1  company exported twenty european country well ...   \n",
      "135083      1  started software capable retrieving data typed...   \n",
      "135084      1  margin call zanadvorov given chance make purch...   \n",
      "\n",
      "                     Dataset    neg    neu    pos  compound  predicted_label  \n",
      "131712  Financial Phrasebank  0.143  0.857  0.000   -0.2500                0  \n",
      "131713  Financial Phrasebank  0.219  0.571  0.210   -0.0258                1  \n",
      "131714  Financial Phrasebank  0.000  1.000  0.000    0.0000                1  \n",
      "131715  Financial Phrasebank  0.000  0.818  0.182    0.4404                2  \n",
      "131716  Financial Phrasebank  0.000  1.000  0.000    0.0000                1  \n",
      "...                      ...    ...    ...    ...       ...              ...  \n",
      "135080  Financial Phrasebank  0.000  0.791  0.209    0.4404                2  \n",
      "135081  Financial Phrasebank  0.000  0.737  0.263    0.3612                2  \n",
      "135082  Financial Phrasebank  0.000  0.741  0.259    0.2732                2  \n",
      "135083  Financial Phrasebank  0.000  0.843  0.157    0.3818                2  \n",
      "135084  Financial Phrasebank  0.000  0.685  0.315    0.5574                2  \n",
      "\n",
      "[3373 rows x 8 columns]\n"
     ]
    }
   ],
   "source": [
    "def apply_vader_and_label(dataframe):\n",
    "    analyzer = SentimentIntensityAnalyzer()\n",
    "    \n",
    "    # Aplicar el análisis de sentimientos a cada texto\n",
    "    dataframe[['neg', 'neu', 'pos', 'compound']] = dataframe['text'].apply(lambda x: pd.Series(analyzer.polarity_scores(x)))\n",
    "    \n",
    "    # Función para determinar la etiqueta basada en el puntaje compound\n",
    "    def get_sentiment_label(compound_score):\n",
    "        if compound_score >= 0.05:\n",
    "            return 2  # positivo\n",
    "        elif compound_score <= -0.05:\n",
    "            return 0  # negativo\n",
    "        else:\n",
    "            return 1  # neutro\n",
    "    \n",
    "    # Aplicar la función a la columna compound para obtener las etiquetas predichas\n",
    "    dataframe['predicted_label'] = dataframe['compound'].apply(get_sentiment_label)\n",
    "    return dataframe\n",
    "\n",
    "# Aplicar la función al DataFrame de entrenamiento\n",
    "df = apply_vader_and_label(df)\n",
    "\n",
    "\n",
    "# Mostrar los DataFrames actualizados\n",
    "print(\"DataFrame de entrenamiento:\")\n",
    "print(df)\n"
   ]
  },
  {
   "cell_type": "markdown",
   "metadata": {},
   "source": [
    "# Metricas de rendimiento (informe clasificación)"
   ]
  },
  {
   "cell_type": "markdown",
   "metadata": {},
   "source": [
    "VADER no es un modelo de aprendizaje supervisado que requiere un proceso de entrenamiento. Es un modelo de análisis de sentimientos basado en reglas y lexicón, lo que significa que no se entrena en un conjunto de datos antes de aplicarse a otros datos. Su funcionamiento se basa en un diccionario de palabras con puntajes predefinidos y reglas para calcular la polaridad del sentimiento."
   ]
  },
  {
   "cell_type": "code",
   "execution_count": 35,
   "metadata": {},
   "outputs": [
    {
     "name": "stdout",
     "output_type": "stream",
     "text": [
      "Informe de clasificación para el conjunto de entrenamiento\n",
      "              precision    recall  f1-score      support\n",
      "0              0.426966  0.273381  0.333333   417.000000\n",
      "1              0.759804  0.532646  0.626263  2037.000000\n",
      "2              0.392133  0.715996  0.506739   919.000000\n",
      "accuracy       0.550548  0.550548  0.550548     0.550548\n",
      "macro avg      0.526301  0.507341  0.488778  3373.000000\n",
      "weighted avg   0.618481  0.550548  0.557483  3373.000000\n"
     ]
    }
   ],
   "source": [
    "# Generar el informe de clasificación para el conjunto de entrenamiento\n",
    "train_report = classification_report(df['label'], df['predicted_label'], output_dict=True)\n",
    "train_report_df = pd.DataFrame(train_report).transpose()\n",
    "print(\"Informe de clasificación para el conjunto de entrenamiento\")\n",
    "print(train_report_df)"
   ]
  },
  {
   "cell_type": "markdown",
   "metadata": {},
   "source": [
    "\n",
    "El uso de VADER para el análisis de sentimientos no se presta directamente a técnicas de validación cruzada (cross-validation) típicas del aprendizaje supervisado, ya que VADER es un algoritmo basado en reglas y lexicón, no un modelo que se entrena con datos específicos"
   ]
  }
 ],
 "metadata": {
  "kernelspec": {
   "display_name": "Python 3",
   "language": "python",
   "name": "python3"
  },
  "language_info": {
   "codemirror_mode": {
    "name": "ipython",
    "version": 3
   },
   "file_extension": ".py",
   "mimetype": "text/x-python",
   "name": "python",
   "nbconvert_exporter": "python",
   "pygments_lexer": "ipython3",
   "version": "3.11.9"
  }
 },
 "nbformat": 4,
 "nbformat_minor": 2
}

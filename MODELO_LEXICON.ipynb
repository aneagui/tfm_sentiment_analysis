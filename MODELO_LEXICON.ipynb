{
 "cells": [
  {
   "cell_type": "markdown",
   "metadata": {},
   "source": [
    "# Cargar librerías y datsets"
   ]
  },
  {
   "cell_type": "code",
   "execution_count": 1,
   "metadata": {},
   "outputs": [],
   "source": [
    "import pandas as pd\n",
    "import numpy as np\n",
    "import matplotlib.pyplot as plt\n",
    "import nltk \n",
    "import seaborn as sns\n",
    "import spacy\n",
    "from nltk.corpus import stopwords\n",
    "from nltk.tokenize import word_tokenize\n",
    "from nltk.stem import WordNetLemmatizer\n",
    "from sklearn.metrics import mean_squared_error, accuracy_score, classification_report\n",
    "from sklearn.feature_extraction.text import CountVectorizer\n",
    "import re\n",
    "from sklearn.model_selection import cross_val_score, StratifiedKFold\n",
    "from sklearn.pipeline import make_pipeline\n",
    "from nltk.sentiment.vader import SentimentIntensityAnalyzer"
   ]
  },
  {
   "cell_type": "code",
   "execution_count": 2,
   "metadata": {},
   "outputs": [],
   "source": [
    "train_data = pd.read_json(\"train_data_LIMPIO.json\")\n",
    "test_d = pd.read_json(\"test_data_LIMPIO.json\")"
   ]
  },
  {
   "cell_type": "code",
   "execution_count": 3,
   "metadata": {},
   "outputs": [],
   "source": [
    "df = train_data\n",
    "test_data = test_d"
   ]
  },
  {
   "cell_type": "markdown",
   "metadata": {},
   "source": [
    "# Vader"
   ]
  },
  {
   "cell_type": "markdown",
   "metadata": {},
   "source": [
    "Dado que VADER es un algoritmo basado en reglas y no un modelo entrenable, su precisión y desempeño pueden ser evaluados aplicándolo directamente sobre df"
   ]
  },
  {
   "cell_type": "code",
   "execution_count": 4,
   "metadata": {},
   "outputs": [
    {
     "name": "stdout",
     "output_type": "stream",
     "text": [
      "DataFrame de entrenamiento:\n",
      "        label                                               text  \\\n",
      "0           0  love take seat appears though someone already ...   \n",
      "1           1                                        fleet fleek   \n",
      "2           0   nope flight leaving almost ca believe paid money   \n",
      "3           2  awesome flight morning awesome crew even lande...   \n",
      "4           2                          together best part flying   \n",
      "...       ...                                                ...   \n",
      "215080      2                              usual spielberg flair   \n",
      "215081      1       shayamalan wanted tell story man loses faith   \n",
      "215082      0  give poor dana carvey nothing really funny exp...   \n",
      "215083      2  hugely rewarding experience every bit enlighte...   \n",
      "215084      1                                       wallace film   \n",
      "\n",
      "                             Dataset    neg    neu    pos  compound  \\\n",
      "0       Twitter US Airline Sentiment  0.381  0.387  0.232   -0.4019   \n",
      "1       Twitter US Airline Sentiment  0.000  1.000  0.000    0.0000   \n",
      "2       Twitter US Airline Sentiment  0.000  1.000  0.000    0.0000   \n",
      "3       Twitter US Airline Sentiment  0.000  0.423  0.577    0.8481   \n",
      "4       Twitter US Airline Sentiment  0.000  0.417  0.583    0.6369   \n",
      "...                              ...    ...    ...    ...       ...   \n",
      "215080                      Stanford  0.000  1.000  0.000    0.0000   \n",
      "215081                      Stanford  0.228  0.495  0.277    0.1280   \n",
      "215082                      Stanford  0.308  0.484  0.208   -0.2166   \n",
      "215083                      Stanford  0.000  0.297  0.703    0.9485   \n",
      "215084                      Stanford  0.000  1.000  0.000    0.0000   \n",
      "\n",
      "        predicted_label  \n",
      "0                     0  \n",
      "1                     1  \n",
      "2                     1  \n",
      "3                     2  \n",
      "4                     2  \n",
      "...                 ...  \n",
      "215080                1  \n",
      "215081                2  \n",
      "215082                0  \n",
      "215083                2  \n",
      "215084                1  \n",
      "\n",
      "[215085 rows x 8 columns]\n"
     ]
    }
   ],
   "source": [
    "def apply_vader_and_label(dataframe):\n",
    "    analyzer = SentimentIntensityAnalyzer()\n",
    "    \n",
    "    # Aplicar el análisis de sentimientos a cada texto\n",
    "    dataframe[['neg', 'neu', 'pos', 'compound']] = dataframe['text'].apply(lambda x: pd.Series(analyzer.polarity_scores(x)))\n",
    "    \n",
    "    # Función para determinar la etiqueta basada en el puntaje compound\n",
    "    def get_sentiment_label(compound_score):\n",
    "        if compound_score >= 0.05:\n",
    "            return 2  # positivo\n",
    "        elif compound_score <= -0.05:\n",
    "            return 0  # negativo\n",
    "        else:\n",
    "            return 1  # neutro\n",
    "    \n",
    "    # Aplicar la función a la columna compound para obtener las etiquetas predichas\n",
    "    dataframe['predicted_label'] = dataframe['compound'].apply(get_sentiment_label)\n",
    "    return dataframe\n",
    "\n",
    "# Aplicar la función al DataFrame de entrenamiento\n",
    "df = apply_vader_and_label(df)\n",
    "\n",
    "\n",
    "# Mostrar los DataFrames actualizados\n",
    "print(\"DataFrame de entrenamiento:\")\n",
    "print(df)\n"
   ]
  },
  {
   "cell_type": "markdown",
   "metadata": {},
   "source": [
    "# Metricas de rendimiento (informe clasificación)"
   ]
  },
  {
   "cell_type": "markdown",
   "metadata": {},
   "source": [
    "VADER no es un modelo de aprendizaje supervisado que requiere un proceso de entrenamiento. Es un modelo de análisis de sentimientos basado en reglas y lexicón, lo que significa que no se entrena en un conjunto de datos antes de aplicarse a otros datos. Su funcionamiento se basa en un diccionario de palabras con puntajes predefinidos y reglas para calcular la polaridad del sentimiento."
   ]
  },
  {
   "cell_type": "code",
   "execution_count": 5,
   "metadata": {},
   "outputs": [
    {
     "name": "stdout",
     "output_type": "stream",
     "text": [
      "Informe de clasificación para el conjunto de entrenamiento\n",
      "              precision    recall  f1-score        support\n",
      "0              0.786524  0.379858  0.512298   96644.000000\n",
      "1              0.410760  0.646706  0.502410   24498.000000\n",
      "2              0.591220  0.817134  0.686057   93943.000000\n",
      "accuracy       0.601241  0.601241  0.601241       0.601241\n",
      "macro avg      0.596168  0.614566  0.566922  215085.000000\n",
      "weighted avg   0.658421  0.601241  0.587065  215085.000000\n"
     ]
    },
    {
     "ename": "",
     "evalue": "",
     "output_type": "error",
     "traceback": [
      "\u001b[1;31mThe Kernel crashed while executing code in the current cell or a previous cell. \n",
      "\u001b[1;31mPlease review the code in the cell(s) to identify a possible cause of the failure. \n",
      "\u001b[1;31mClick <a href='https://aka.ms/vscodeJupyterKernelCrash'>here</a> for more info. \n",
      "\u001b[1;31mView Jupyter <a href='command:jupyter.viewOutput'>log</a> for further details."
     ]
    }
   ],
   "source": [
    "# Generar el informe de clasificación para el conjunto de entrenamiento\n",
    "train_report = classification_report(df['label'], df['predicted_label'], output_dict=True)\n",
    "train_report_df = pd.DataFrame(train_report).transpose()\n",
    "print(\"Informe de clasificación para el conjunto de entrenamiento\")\n",
    "print(train_report_df)"
   ]
  },
  {
   "cell_type": "markdown",
   "metadata": {},
   "source": [
    "\n",
    "El uso de VADER para el análisis de sentimientos no se presta directamente a técnicas de validación cruzada (cross-validation) típicas del aprendizaje supervisado, ya que VADER es un algoritmo basado en reglas y lexicón, no un modelo que se entrena con datos específicos"
   ]
  }
 ],
 "metadata": {
  "kernelspec": {
   "display_name": "Python 3",
   "language": "python",
   "name": "python3"
  },
  "language_info": {
   "codemirror_mode": {
    "name": "ipython",
    "version": 3
   },
   "file_extension": ".py",
   "mimetype": "text/x-python",
   "name": "python",
   "nbconvert_exporter": "python",
   "pygments_lexer": "ipython3",
   "version": "3.11.9"
  }
 },
 "nbformat": 4,
 "nbformat_minor": 2
}
